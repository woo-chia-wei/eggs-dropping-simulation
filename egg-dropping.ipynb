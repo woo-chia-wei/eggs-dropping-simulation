{
 "cells": [
  {
   "cell_type": "markdown",
   "metadata": {},
   "source": [
    "# Problem Description\n",
    "\n",
    "*Quoted from https://www.geeksforgeeks.org/egg-dropping-puzzle-dp-11/*\n",
    "\n",
    "Suppose that we wish to know which stories in a 100-story building are safe to drop eggs from, and which will cause the eggs to break on landing. We make a few assumptions:\n",
    "\n",
    "* An egg that survives a fall can be used again.\n",
    "* A broken egg must be discarded.\n",
    "* The effect of a fall is the same for all eggs.\n",
    "* If an egg breaks when dropped, then it would break if dropped from a higher floor.\n",
    "* If an egg survives a fall then it would survive a shorter fall.\n",
    "* It is not ruled out that the first-floor windows break eggs, nor is it ruled out that the 36th-floor do not cause an egg to break.\n",
    "\n",
    "If only one egg is available and we wish to be sure of obtaining the right result, the experiment can be carried out in only one way. Drop the egg from the first-floor window; if it survives, drop it from the second floor window. Continue upward until it breaks. In the worst case, this method may require 36 droppings. Suppose 2 eggs are available. What is the least number of egg-droppings that is guaranteed to work in all cases?\n",
    "\n",
    "The problem is not actually to find the critical floor, but merely to decide floors from which eggs should be dropped so that total number of trials are minimized."
   ]
  },
  {
   "cell_type": "markdown",
   "metadata": {},
   "source": [
    "# Solution (Ideas)\n",
    "\n",
    "Suppose you throw egg1 at floor $x$ and it is broken, then you have to use egg2 to try from floor $1, 2, ...$ until the critical floor where egg breaks again. Therefore for worst case scenario, the maximum steps $(x - 1)$ are required for second egg.\n",
    "\n",
    "Considered another scenario where you throw egg1 at floor $x$ and it is not broken, the critical floor must be somewhere higher than $x$, basically this reduce the original problem to a egg dropping subproblem where we have 2 eggs and the floor levels are: \n",
    "\n",
    "<center>$x, x + 1, x + 2, ..., 100$ </center>\n",
    "\n",
    "by subtracting x from every term yields\n",
    "\n",
    "<center>$0, 1, 2, ...., 100 - x$</center>\n",
    "\n",
    "This has reduced the problem to 2 eggs dropping problem for building with $(100 - x)$ floors."
   ]
  },
  {
   "cell_type": "markdown",
   "metadata": {},
   "source": [
    "# Solution (With mathematical notations)\n",
    "\n",
    "Define $S(n, x)$ be the statement of 2 eggs dropping with $n$ floors building that can be solved with $x$ steps. Our goal is to find minimum $x$ that satisfies $S(100, x)$.\n",
    "\n",
    "Suppose we throw egg1 at $x$-th floor of building with 100 floors, \n",
    "* If broken, require $(x-1)$ more steps to find the critical floor with egg2. Total steps = $x$.\n",
    "* If not broken, we continue to solve the subproblem $S(100-x, x-1)$ with 2 unbroken eggs.\n",
    "\n",
    "Hence we have property $S(100, x) \\iff S(100-x, x-1)$. Furthermore, we can reduce the second parameter as following:\n",
    "\n",
    "$S(100, x)$  \n",
    "$ \\iff S(100 - x, x - 1)$  \n",
    "$ \\iff S(100 - x - (x - 1), x - 2)$  \n",
    "$ \\iff S(100 - x - (x - 1) - (x - 2), x - 3)$  \n",
    "$...$  \n",
    "$ \\iff S(100-(1 + 2 + 3 + ... + x)), 0) = S(100-x(x+1)/2, 0)$\n",
    "\n",
    "Since the problem is solvable with no steps for number of floors $100-x(x+1)/2$, therefore this cannot be positive value. This is equivalent to find smallest $x$ where $x(x+1) >= 200$, $x = 14$ is the minimum steps to locate the critical floor."
   ]
  },
  {
   "cell_type": "code",
   "execution_count": null,
   "metadata": {},
   "outputs": [],
   "source": []
  },
  {
   "cell_type": "code",
   "execution_count": null,
   "metadata": {},
   "outputs": [],
   "source": []
  },
  {
   "cell_type": "code",
   "execution_count": null,
   "metadata": {},
   "outputs": [],
   "source": []
  },
  {
   "cell_type": "code",
   "execution_count": null,
   "metadata": {},
   "outputs": [],
   "source": []
  },
  {
   "cell_type": "code",
   "execution_count": null,
   "metadata": {},
   "outputs": [],
   "source": []
  },
  {
   "cell_type": "code",
   "execution_count": null,
   "metadata": {},
   "outputs": [],
   "source": []
  },
  {
   "cell_type": "code",
   "execution_count": null,
   "metadata": {},
   "outputs": [],
   "source": []
  },
  {
   "cell_type": "code",
   "execution_count": null,
   "metadata": {},
   "outputs": [],
   "source": []
  },
  {
   "cell_type": "code",
   "execution_count": null,
   "metadata": {},
   "outputs": [],
   "source": []
  },
  {
   "cell_type": "code",
   "execution_count": null,
   "metadata": {},
   "outputs": [],
   "source": []
  },
  {
   "cell_type": "code",
   "execution_count": null,
   "metadata": {},
   "outputs": [],
   "source": []
  }
 ],
 "metadata": {
  "kernelspec": {
   "display_name": "Python 3",
   "language": "python",
   "name": "python3"
  },
  "language_info": {
   "codemirror_mode": {
    "name": "ipython",
    "version": 3
   },
   "file_extension": ".py",
   "mimetype": "text/x-python",
   "name": "python",
   "nbconvert_exporter": "python",
   "pygments_lexer": "ipython3",
   "version": "3.6.5"
  }
 },
 "nbformat": 4,
 "nbformat_minor": 2
}
