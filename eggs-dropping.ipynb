{
 "cells": [
  {
   "cell_type": "markdown",
   "metadata": {},
   "source": [
    "# Problem Description\n",
    "\n",
    "*Quoted from https://www.geeksforgeeks.org/egg-dropping-puzzle-dp-11/*\n",
    "\n",
    "Suppose that we wish to know which stories in a 100-story building are safe to drop eggs from, and which will cause the eggs to break on landing. We make a few assumptions:\n",
    "\n",
    "* An egg that survives a fall can be used again.\n",
    "* A broken egg must be discarded.\n",
    "* The effect of a fall is the same for all eggs.\n",
    "* If an egg breaks when dropped, then it would break if dropped from a higher floor.\n",
    "* If an egg survives a fall then it would survive a shorter fall.\n",
    "* It is not ruled out that the first-floor windows break eggs, nor is it ruled out that the 36th-floor do not cause an egg to break.\n",
    "\n",
    "If only one egg is available and we wish to be sure of obtaining the right result, the experiment can be carried out in only one way. Drop the egg from the first-floor window; if it survives, drop it from the second floor window. Continue upward until it breaks. In the worst case, this method may require 36 droppings. Suppose 2 eggs are available. What is the least number of egg-droppings that is guaranteed to work in all cases?\n",
    "\n",
    "The problem is not actually to find the critical floor, but merely to decide floors from which eggs should be dropped so that total number of trials are minimized."
   ]
  },
  {
   "cell_type": "markdown",
   "metadata": {},
   "source": [
    "# Solution (Ideas)\n",
    "\n",
    "Suppose you throw egg1 at floor $x$ and it is broken, then you have to use egg2 to try from floor $1, 2, ...$ until the critical floor where egg breaks again. Therefore for worst case scenario, the maximum steps $(x - 1)$ are required for second egg.\n",
    "\n",
    "Considered another scenario where you throw egg1 at floor $x$ and it is not broken, the critical floor must be somewhere higher than $x$, basically this reduce the original problem to a egg dropping subproblem where we have 2 eggs and the floor levels are: \n",
    "\n",
    "<center>$x, x + 1, x + 2, ..., 100$ </center>\n",
    "\n",
    "by subtracting x from every term yields\n",
    "\n",
    "<center>$0, 1, 2, ...., 100 - x$</center>\n",
    "\n",
    "This has reduced the problem to 2 eggs dropping problem for building with $(100 - x)$ floors."
   ]
  },
  {
   "cell_type": "markdown",
   "metadata": {},
   "source": [
    "# Solution (With mathematical notations)\n",
    "\n",
    "Define $S(n, x)$ be the statement of 2 eggs dropping with $n$ floors building that can be solved with $x$ steps. Our goal is to find minimum $x$ that satisfies $S(100, x)$.\n",
    "\n",
    "Suppose we throw egg1 at $x$-th floor of building with 100 floors, \n",
    "* If broken, require $(x-1)$ more steps to find the critical floor with egg2. Total steps = $x$.\n",
    "* If not broken, we continue to solve the subproblem $S(100-x, x-1)$ with 2 unbroken eggs.\n",
    "\n",
    "Hence we have property $S(100, x) \\iff S(100-x, x-1)$. Furthermore, we can reduce the second parameter as following:\n",
    "\n",
    "$S(100, x)$  \n",
    "$ \\iff S(100 - x, x - 1)$  \n",
    "$ \\iff S(100 - x - (x - 1), x - 2)$  \n",
    "$ \\iff S(100 - x - (x - 1) - (x - 2), x - 3)$  \n",
    "$...$  \n",
    "$ \\iff S(100-(1 + 2 + 3 + ... + x)), 0) = S(100-x(x+1)/2, 0)$\n",
    "\n",
    "Since the problem is solvable with no steps for number of floors $100-x(x+1)/2$, therefore this cannot be positive value. This is equivalent to find smallest $x$ where $x(x+1) >= 200$, $x = 14$ is the minimum steps to locate the critical floor."
   ]
  },
  {
   "cell_type": "markdown",
   "metadata": {},
   "source": [
    "#  Solution (Programming)\n",
    "Perform simulation with 100,000 trials with random critical floor (randomness is determined by uniform distribution $U(1, 100)$). Compare the number of steps required for different strategies:\n",
    "\n",
    "* Best Strategy - Follow approach approach by taking $14, 14+13, 14+13+12, ...$ as checkpoints.\n",
    "* Naive Strategy - The safest and laziest way, simply try from the lowest floor and going upward.\n",
    "* Blind Guess Strategy - Depends on luck, try on random floor, solving subproblems to reduce the search range."
   ]
  },
  {
   "cell_type": "code",
   "execution_count": 1,
   "metadata": {
    "collapsed": true
   },
   "outputs": [],
   "source": [
    "import numpy as np\n",
    "import pandas as pd\n",
    "import matplotlib.pyplot as plt\n",
    "\n",
    "plt.style.use('seaborn')"
   ]
  },
  {
   "cell_type": "code",
   "execution_count": 2,
   "metadata": {},
   "outputs": [],
   "source": [
    "checkpoints = np.arange(14, 0, -1).cumsum()\n",
    "checkpoints = checkpoints[checkpoints <= 100]\n",
    "while checkpoints[-1] < 100:\n",
    "    checkpoints = np.append(checkpoints, checkpoints[-1] + 1)\n",
    "    \n",
    "def is_egg_broken(current_floor, critical_floor):\n",
    "    return current_floor >= critical_floor\n",
    "\n",
    "def throw_egg(current_floor, attempted_floors):\n",
    "    attempted_floors.append(current_floor)\n",
    "\n",
    "def best_strategy(critical_floor):\n",
    "    attempted_floors = []\n",
    "    for index, current_checkpoint in enumerate(checkpoints):\n",
    "        if index > 0:\n",
    "            last_checkpoint = checkpoints[index - 1]\n",
    "        else:\n",
    "            last_checkpoint = 0\n",
    "\n",
    "        throw_egg(current_checkpoint, attempted_floors)\n",
    "        if not is_egg_broken(current_checkpoint, critical_floor): continue\n",
    "\n",
    "        backward_floors = range(last_checkpoint + 1, current_checkpoint)\n",
    "\n",
    "        if len(backward_floors) == 0: continue\n",
    "\n",
    "        for current_floor in backward_floors:\n",
    "            throw_egg(current_floor, attempted_floors)\n",
    "            if is_egg_broken(current_floor, critical_floor):\n",
    "                break\n",
    "        break\n",
    "    return attempted_floors\n",
    "\n",
    "def naive_strategy(critical_floor):\n",
    "    attempted_floors = []\n",
    "    first_floor = np.random.randint(1, 101)\n",
    "    for current_floor in range(1, 101):\n",
    "        throw_egg(current_floor, attempted_floors)\n",
    "        if is_egg_broken(current_floor, critical_floor):\n",
    "            break\n",
    "    return attempted_floors\n",
    "\n",
    "def blind_guess_strategy(critical_floor):\n",
    "    attempted_floors = []\n",
    "    \n",
    "    current_start = 1\n",
    "    current_end = 100\n",
    "    is_found = False\n",
    "    \n",
    "    while(not is_found):    \n",
    "        current_floor = np.random.randint(current_start, current_end + 1)\n",
    "        throw_egg(current_floor, attempted_floors)\n",
    "        if is_egg_broken(current_floor, critical_floor):\n",
    "            for current_floor in range(current_start, current_floor):\n",
    "                throw_egg(current_floor, attempted_floors)\n",
    "                if is_egg_broken(current_floor, critical_floor):\n",
    "                    is_found = True\n",
    "                    break\n",
    "            is_found = True\n",
    "        else:\n",
    "            current_start = current_floor + 1 \n",
    "    \n",
    "    return attempted_floors"
   ]
  },
  {
   "cell_type": "code",
   "execution_count": 3,
   "metadata": {},
   "outputs": [
    {
     "data": {
      "image/png": "[encoded data removed]",
      "text/plain": [
       "<matplotlib.figure.Figure at 0xaaf0eb8>"
      ]
     },
     "metadata": {},
     "output_type": "display_data"
    }
   ],
   "source": [
    "total = 100000\n",
    "critical_floors = np.random.randint(1, 101, size=total)\n",
    "result = []\n",
    "\n",
    "for critical_floor in critical_floors:\n",
    "    steps_naive = naive_strategy(critical_floor)\n",
    "    steps_best = best_strategy(critical_floor)\n",
    "    steps_blindguess = blind_guess_strategy(critical_floor)\n",
    "    result.append({\n",
    "        'critical_floor': critical_floor,\n",
    "        'naive': len(steps_naive),\n",
    "        'best': len(steps_best),\n",
    "        'blind_guess': len(steps_blindguess)\n",
    "    })\n",
    "\n",
    "trials = pd.DataFrame(result)\n",
    "\n",
    "fig, ax = plt.subplots(figsize=(15, 8))\n",
    "\n",
    "columns = ['naive', 'best', 'blind_guess']\n",
    "trials[columns].plot.hist(ax=ax, alpha=0.5, bins=range(1, 101))\n",
    "ax.set_xticks(np.arange(0, 105, 10))\n",
    "ax.set_title('Strategies for 2 eggs dropping for 100 floors ({:,} Trials)'.format(total), fontsize=16)\n",
    "ax.set_ylabel('Count')\n",
    "ax.set_xlabel('Number of steps')\n",
    "\n",
    "plt.show()"
   ]
  },
  {
   "cell_type": "code",
   "execution_count": null,
   "metadata": {
    "collapsed": true
   },
   "outputs": [],
   "source": []
  },
  {
   "cell_type": "code",
   "execution_count": null,
   "metadata": {
    "collapsed": true
   },
   "outputs": [],
   "source": []
  },
  {
   "cell_type": "code",
   "execution_count": null,
   "metadata": {
    "collapsed": true
   },
   "outputs": [],
   "source": []
  },
  {
   "cell_type": "code",
   "execution_count": null,
   "metadata": {
    "collapsed": true
   },
   "outputs": [],
   "source": []
  },
  {
   "cell_type": "code",
   "execution_count": null,
   "metadata": {
    "collapsed": true
   },
   "outputs": [],
   "source": []
  }
 ],
 "metadata": {
  "kernelspec": {
   "display_name": "Python 3",
   "language": "python",
   "name": "python3"
  },
  "language_info": {
   "codemirror_mode": {
    "name": "ipython",
    "version": 3
   },
   "file_extension": ".py",
   "mimetype": "text/x-python",
   "name": "python",
   "nbconvert_exporter": "python",
   "pygments_lexer": "ipython3",
   "version": "3.6.1"
  }
 },
 "nbformat": 4,
 "nbformat_minor": 2
}
